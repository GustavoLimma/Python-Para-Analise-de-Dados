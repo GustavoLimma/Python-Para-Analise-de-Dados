{
  "nbformat": 4,
  "nbformat_minor": 0,
  "metadata": {
    "colab": {
      "provenance": [],
      "authorship_tag": "ABX9TyObPHAj2lwa2YdTcyIuRfKM",
      "include_colab_link": true
    },
    "kernelspec": {
      "name": "python3",
      "display_name": "Python 3"
    },
    "language_info": {
      "name": "python"
    }
  },
  "cells": [
    {
      "cell_type": "markdown",
      "metadata": {
        "id": "view-in-github",
        "colab_type": "text"
      },
      "source": [
        "<a href=\"https://colab.research.google.com/github/GustavoLimma/Python-Para-Analise-de-Dados/blob/main/Fluxo%20condicional%20e%20Reprodu%C3%A7%C3%A3o.ipynb\" target=\"_parent\"><img src=\"https://colab.research.google.com/assets/colab-badge.svg\" alt=\"Open In Colab\"/></a>"
      ]
    },
    {
      "cell_type": "markdown",
      "source": [
        "# **Fluxo condicional e reprodução**"
      ],
      "metadata": {
        "id": "1N7p-15mESbB"
      }
    },
    {
      "cell_type": "markdown",
      "source": [
        "Na lista propaganda_onlinedada no editor ao lado, estão presentes os dados de usuários que acessaram um determinado site e se o mesmo clicaram em uma propaganda."
      ],
      "metadata": {
        "id": "UwQWyP0QEnfB"
      }
    },
    {
      "cell_type": "code",
      "execution_count": 1,
      "metadata": {
        "id": "imG9OrNznO9e"
      },
      "outputs": [],
      "source": [
        "propaganda_online = [\n",
        "\t{'tempo_gasto_site': 68.95, 'idade': 35, 'renda_area': 61833.90, 'tempo_gasto_internet': 256.09, 'cidade': 'Wrightburgh', 'pais': 'Tunisia', 'clicou_no_ad': 0},\n",
        "\t{'tempo_gasto_site': 80.23, 'idade': 31, 'renda_area': 68441.85, 'tempo_gasto_internet': 193.77, 'cidade': 'West Jodi', 'pais': 'Nauru', 'clicou_no_ad': 0},\n",
        "\t{'tempo_gasto_site': 69.47, 'idade': 26, 'renda_area': 59785.94, 'tempo_gasto_internet': 236.50, 'cidade': 'Davidton', 'pais': 'San Marino', 'clicou_no_ad': 0},\n",
        "\t{'tempo_gasto_site': 68.37, 'idade': 35, 'renda_area': 73889.99, 'tempo_gasto_internet': 225.58, 'cidade': 'South Manuel', 'pais': 'Iceland', 'clicou_no_ad': 0},\n",
        "\t{'tempo_gasto_site': 88.91, 'idade': 33, 'renda_area': 53852.85, 'tempo_gasto_internet': 208.36, 'cidade': 'Brandonstad', 'pais': 'Myanmar', 'clicou_no_ad': 0},\n",
        "\t{'tempo_gasto_site': None, 'idade': 48, 'renda_area': 24593.33, 'tempo_gasto_internet': 131.76, 'cidade': 'Port Jefferybury', 'pais': 'Australia', 'clicou_no_ad': 1},\n",
        "\t{'tempo_gasto_site': 74.53, 'idade': 30, 'renda_area': 68862.00, 'tempo_gasto_internet': 221.51, 'cidade': 'West Colin', 'pais': 'Grenada'},\n",
        "\t{'tempo_gasto_site': 69.88, 'idade': 20, 'renda_area': 55642.32, 'tempo_gasto_internet': 183.82, 'cidade': 'Ramirezton', 'pais': 'Ghana', 'clicou_no_ad': 0}\n",
        "]"
      ]
    },
    {
      "cell_type": "markdown",
      "source": [
        "# Imprimindo os valores:"
      ],
      "metadata": {
        "id": "dSUXtA0FE46t"
      }
    },
    {
      "cell_type": "markdown",
      "source": [
        "Imprimindo os valores de idade e tempo_gasto_site."
      ],
      "metadata": {
        "id": "YfiHWdL3FUtf"
      }
    },
    {
      "cell_type": "code",
      "source": [
        "for id in propaganda_online:\n",
        "\tprint(f\" Tempo gasto no site: {id['tempo_gasto_site']}, idade: {id['idade']}\")"
      ],
      "metadata": {
        "colab": {
          "base_uri": "https://localhost:8080/"
        },
        "id": "Jdb57bcwFD5j",
        "outputId": "7c469546-9653-42e9-a608-4da4a23af9c0"
      },
      "execution_count": 2,
      "outputs": [
        {
          "output_type": "stream",
          "name": "stdout",
          "text": [
            " Tempo gasto no site: 68.95, idade: 35\n",
            " Tempo gasto no site: 80.23, idade: 31\n",
            " Tempo gasto no site: 69.47, idade: 26\n",
            " Tempo gasto no site: 68.37, idade: 35\n",
            " Tempo gasto no site: 88.91, idade: 33\n",
            " Tempo gasto no site: None, idade: 48\n",
            " Tempo gasto no site: 74.53, idade: 30\n",
            " Tempo gasto no site: 69.88, idade: 20\n"
          ]
        }
      ]
    },
    {
      "cell_type": "markdown",
      "source": [
        "Imprimindo a cidade dos usuários que gastaram mais de 200 horas de tempo na internet."
      ],
      "metadata": {
        "id": "AX9zk1__FEqG"
      }
    },
    {
      "cell_type": "code",
      "source": [
        "for id in propaganda_online:\n",
        "\tif id['tempo_gasto_internet']>200:\n",
        "\t\tprint(f\"{id['cidade']}\")"
      ],
      "metadata": {
        "colab": {
          "base_uri": "https://localhost:8080/"
        },
        "id": "s-GsQyuaFZ27",
        "outputId": "0e42b469-469b-4106-f40b-6aaa1a681c7d"
      },
      "execution_count": 3,
      "outputs": [
        {
          "output_type": "stream",
          "name": "stdout",
          "text": [
            "Wrightburgh\n",
            "Davidton\n",
            "South Manuel\n",
            "Brandonstad\n",
            "West Colin\n"
          ]
        }
      ]
    },
    {
      "cell_type": "markdown",
      "source": [
        "Imprimindo as cidades dos usuários que passaram mais de 70 segundos no site e realizando o tratamento de abordagens dentro da execução da iteração dos elementos da lista. Tratando a exceção atribuindo-a à variável error."
      ],
      "metadata": {
        "id": "AxD6f3KuFppN"
      }
    },
    {
      "cell_type": "code",
      "source": [
        "for c in propaganda_online:\n",
        "\ttry:\n",
        "\t\tif c['tempo_gasto_site']>70:\n",
        "\t\t\tprint(c['cidade'])\n",
        "\texcept TypeError as e:\n",
        "\t\terror=e\n",
        "\t\tcontinue\n",
        "print(error)"
      ],
      "metadata": {
        "colab": {
          "base_uri": "https://localhost:8080/"
        },
        "id": "shB5zaxBGHvb",
        "outputId": "2eddd61a-22be-4a76-b94d-2409d7417e54"
      },
      "execution_count": 4,
      "outputs": [
        {
          "output_type": "stream",
          "name": "stdout",
          "text": [
            "West Jodi\n",
            "Brandonstad\n",
            "West Colin\n",
            "'>' not supported between instances of 'NoneType' and 'int'\n"
          ]
        }
      ]
    }
  ]
}